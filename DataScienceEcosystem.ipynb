{
 "cells": [
  {
   "cell_type": "markdown",
   "id": "9aa88eb1",
   "metadata": {},
   "source": [
    "# Data Science Tools and Ecosystem"
   ]
  },
  {
   "cell_type": "markdown",
   "id": "d99ad7a4",
   "metadata": {},
   "source": [
    "## In this notebook, Data Science Tools and Ecosystem are summarized."
   ]
  },
  {
   "cell_type": "markdown",
   "id": "c13a1a1d",
   "metadata": {},
   "source": [
    "#### Some of the popular languages that Data Scientists use are:\n",
    "1) python\n",
    "2) R\n",
    "3) SQL"
   ]
  },
  {
   "cell_type": "markdown",
   "id": "16210af0",
   "metadata": {},
   "source": [
    "# Some of the commonly used libraries used by Data Scientists include:\n",
    "1) TensorFlow.\n",
    "2) NumPy.\n",
    "3) SciPy.\n",
    "4) Pandas.\n",
    "5) Matplotlib.\n",
    "6) Keras.\n",
    "7) SciKit-Learn.\n",
    "8) PyTorch."
   ]
  },
  {
   "cell_type": "markdown",
   "id": "5f6920a3",
   "metadata": {},
   "source": [
    "| Data Science Tools |\n",
    "| --- |    \n",
    "| TensorFlow.js | \n",
    "| Hadoop |\n",
    "| Spark |"
   ]
  },
  {
   "cell_type": "markdown",
   "id": "a18dc799",
   "metadata": {},
   "source": [
    "### Below are a few examples of evaluating arithmetic expressions in Python"
   ]
  },
  {
   "cell_type": "code",
   "execution_count": 5,
   "id": "81755a8e",
   "metadata": {},
   "outputs": [
    {
     "data": {
      "text/plain": [
       "17"
      ]
     },
     "execution_count": 5,
     "metadata": {},
     "output_type": "execute_result"
    }
   ],
   "source": [
    "#  This a simple arithmetic expression to mutiply then add integers\n",
    "(3*4)+5"
   ]
  },
  {
   "cell_type": "code",
   "execution_count": 7,
   "id": "b5167c28",
   "metadata": {},
   "outputs": [
    {
     "data": {
      "text/plain": [
       "3.3333333333333335"
      ]
     },
     "execution_count": 7,
     "metadata": {},
     "output_type": "execute_result"
    }
   ],
   "source": [
    "# This will convert 200 minutes to hours by diving by 60\n",
    "200/60"
   ]
  },
  {
   "cell_type": "markdown",
   "id": "5a427db7",
   "metadata": {},
   "source": [
    "### Objectives: Learnt names of tools used in data science and basics of them"
   ]
  },
  {
   "cell_type": "markdown",
   "id": "1fa9c1d8",
   "metadata": {},
   "source": [
    "|key take aways|\n",
    "|---|\n",
    "|comment|\n",
    "|markdown|\n",
    "|code|"
   ]
  },
  {
   "cell_type": "markdown",
   "id": "e668ecb4",
   "metadata": {},
   "source": [
    "|languages|\n",
    "|---|\n",
    "|python|\n",
    "|R|\n",
    "|SQL|"
   ]
  },
  {
   "cell_type": "markdown",
   "id": "32ad5d73",
   "metadata": {},
   "source": [
    " **Author** :  Harsh Padsala"
   ]
  },
  {
   "cell_type": "code",
   "execution_count": null,
   "id": "5d39cd34",
   "metadata": {},
   "outputs": [],
   "source": []
  },
  {
   "cell_type": "code",
   "execution_count": null,
   "id": "32ce1999",
   "metadata": {},
   "outputs": [],
   "source": []
  }
 ],
 "metadata": {
  "kernelspec": {
   "display_name": "Python 3 (ipykernel)",
   "language": "python",
   "name": "python3"
  },
  "language_info": {
   "codemirror_mode": {
    "name": "ipython",
    "version": 3
   },
   "file_extension": ".py",
   "mimetype": "text/x-python",
   "name": "python",
   "nbconvert_exporter": "python",
   "pygments_lexer": "ipython3",
   "version": "3.9.13"
  }
 },
 "nbformat": 4,
 "nbformat_minor": 5
}
